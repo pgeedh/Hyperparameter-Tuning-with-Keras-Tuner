{
  "nbformat": 4,
  "nbformat_minor": 0,
  "metadata": {
    "colab": {
      "provenance": []
    },
    "kernelspec": {
      "name": "python3",
      "display_name": "Python 3"
    },
    "language_info": {
      "name": "python"
    }
  },
  "cells": [
    {
      "cell_type": "code",
      "execution_count": 1,
      "metadata": {
        "colab": {
          "base_uri": "https://localhost:8080/"
        },
        "id": "pDFc-NhsqlyF",
        "outputId": "e1bfe838-d963-43b2-daf6-f950449a7d18"
      },
      "outputs": [
        {
          "output_type": "stream",
          "name": "stdout",
          "text": [
            "Requirement already satisfied: keras-tuner in /usr/local/lib/python3.10/dist-packages (1.3.5)\n",
            "Requirement already satisfied: packaging in /usr/local/lib/python3.10/dist-packages (from keras-tuner) (23.1)\n",
            "Requirement already satisfied: requests in /usr/local/lib/python3.10/dist-packages (from keras-tuner) (2.27.1)\n",
            "Requirement already satisfied: kt-legacy in /usr/local/lib/python3.10/dist-packages (from keras-tuner) (1.0.5)\n",
            "Requirement already satisfied: urllib3<1.27,>=1.21.1 in /usr/local/lib/python3.10/dist-packages (from requests->keras-tuner) (1.26.16)\n",
            "Requirement already satisfied: certifi>=2017.4.17 in /usr/local/lib/python3.10/dist-packages (from requests->keras-tuner) (2023.5.7)\n",
            "Requirement already satisfied: charset-normalizer~=2.0.0 in /usr/local/lib/python3.10/dist-packages (from requests->keras-tuner) (2.0.12)\n",
            "Requirement already satisfied: idna<4,>=2.5 in /usr/local/lib/python3.10/dist-packages (from requests->keras-tuner) (3.4)\n"
          ]
        }
      ],
      "source": [
        "#installing keras-tuner\n",
        "!pip install keras-tuner\n"
      ]
    },
    {
      "cell_type": "code",
      "source": [
        "#importing necessary liabraries\n",
        "import tensorflow as tf\n",
        "import keras_tuner\n",
        "import matplotlib.pyplot as plt\n",
        "import numpy as np\n"
      ],
      "metadata": {
        "id": "z1PyxJSotiPJ"
      },
      "execution_count": 2,
      "outputs": []
    },
    {
      "cell_type": "code",
      "source": [
        "#loading dataset and spliting it in test and train dataset\n",
        "(x_train,y_train),(x_test,y_test)=tf.keras.datasets.fashion_mnist.load_data()"
      ],
      "metadata": {
        "id": "x7fdazbQt5q-"
      },
      "execution_count": 3,
      "outputs": []
    },
    {
      "cell_type": "code",
      "source": [
        "#check x_train shape\n",
        "x_train.shape\n"
      ],
      "metadata": {
        "colab": {
          "base_uri": "https://localhost:8080/"
        },
        "id": "3n6pR8iGuJHy",
        "outputId": "9fb2a6e2-9947-48d5-a340-8b349bad752b"
      },
      "execution_count": 4,
      "outputs": [
        {
          "output_type": "execute_result",
          "data": {
            "text/plain": [
              "(60000, 28, 28)"
            ]
          },
          "metadata": {},
          "execution_count": 4
        }
      ]
    },
    {
      "cell_type": "code",
      "source": [
        "#setting the y_train data\n",
        "set(y_train)"
      ],
      "metadata": {
        "colab": {
          "base_uri": "https://localhost:8080/"
        },
        "id": "qKpAKb7vuViF",
        "outputId": "c8136879-b53a-4414-aa9b-dccb5f622c64"
      },
      "execution_count": 5,
      "outputs": [
        {
          "output_type": "execute_result",
          "data": {
            "text/plain": [
              "{0, 1, 2, 3, 4, 5, 6, 7, 8, 9}"
            ]
          },
          "metadata": {},
          "execution_count": 5
        }
      ]
    },
    {
      "cell_type": "code",
      "source": [
        "#checking a random element 7 and visualizing it\n",
        "plt.imshow(x_train[7],cmap='binary')\n",
        "plt.xlabel(y_train[7])\n",
        "plt.show()"
      ],
      "metadata": {
        "colab": {
          "base_uri": "https://localhost:8080/",
          "height": 449
        },
        "id": "IkqV1fJ7ucds",
        "outputId": "83ebcf1d-45eb-4ee9-f016-d7e9d408c622"
      },
      "execution_count": 6,
      "outputs": [
        {
          "output_type": "display_data",
          "data": {
            "text/plain": [
              "<Figure size 640x480 with 1 Axes>"
            ],
            "image/png": "[encoded data removed]"
          },
          "metadata": {}
        }
      ]
    },
    {
      "cell_type": "code",
      "source": [
        "#creating model for the tuner\n",
        "\n",
        "def create_model(hp):\n",
        "  num_hidden_layers=1 #hidden layer\n",
        "  num_units=8\n",
        "  dropout_rate=0.1 #dropout rate\n",
        "  learning_rate=0.01 #learning_Rate\n",
        "\n",
        "  if hp:  #creating a hyperparmeter with choices\n",
        "    num_hidden_layers=hp.Choice('num_hidden_layers',values=[1,2,3])\n",
        "    num_units=hp.Choice('num_units',values=[8,16,32])\n",
        "    dropout_rate=hp.Float('dropout_rate',min_value=0.1,max_value=0.5)\n",
        "    learning_rate=hp.Float('learning_rate',min_value=0.0001,max_value=0.01)\n",
        "\n",
        "  model=tf.keras.models.Sequential() #creating a sequential model\n",
        "\n",
        "  model.add(tf.keras.layers.Flatten(input_shape=(28,28))) #flatten the layer\n",
        "  model.add(tf.keras.layers.Lambda(lambda x: x/255.))\n",
        "\n",
        "  for _ in range(0, num_hidden_layers):\n",
        "    model.add(tf.keras.layers.Dense(num_units,activation='relu')) #relu activation\n",
        "    model.add(tf.keras.layers.Dropout(dropout_rate))\n",
        "\n",
        "  model.add(tf.keras.layers.Dense(10,activation='softmax')) #softmax activation\n",
        "\n",
        "  model.compile(\n",
        "      loss='sparse_categorical_crossentropy',\n",
        "      optimizer=tf.keras.optimizers.Adam(learning_rate=learning_rate),\n",
        "      metrics=['accuracy']\n",
        "  )\n",
        "  return model"
      ],
      "metadata": {
        "id": "92j1yCXZvIeB"
      },
      "execution_count": 7,
      "outputs": []
    },
    {
      "cell_type": "code",
      "source": [
        "#creating model summary\n",
        "create_model(None).summary()"
      ],
      "metadata": {
        "colab": {
          "base_uri": "https://localhost:8080/"
        },
        "id": "rmqkiHNhxHCE",
        "outputId": "5f10fb30-db27-41ab-ed99-dd332b5ed087"
      },
      "execution_count": 8,
      "outputs": [
        {
          "output_type": "stream",
          "name": "stdout",
          "text": [
            "Model: \"sequential\"\n",
            "_________________________________________________________________\n",
            " Layer (type)                Output Shape              Param #   \n",
            "=================================================================\n",
            " flatten (Flatten)           (None, 784)               0         \n",
            "                                                                 \n",
            " lambda (Lambda)             (None, 784)               0         \n",
            "                                                                 \n",
            " dense (Dense)               (None, 8)                 6280      \n",
            "                                                                 \n",
            " dropout (Dropout)           (None, 8)                 0         \n",
            "                                                                 \n",
            " dense_1 (Dense)             (None, 10)                90        \n",
            "                                                                 \n",
            "=================================================================\n",
            "Total params: 6,370\n",
            "Trainable params: 6,370\n",
            "Non-trainable params: 0\n",
            "_________________________________________________________________\n"
          ]
        }
      ]
    },
    {
      "cell_type": "code",
      "source": [
        "#defining a class with custom tuner using bayesian optimzation\n",
        "class CustomTuner(keras_tuner.tuners.BayesianOptimization):\n",
        "  def run_trial(self,trial, *args, **kwargs):\n",
        "    kwargs['batch_size']=trial.hyperparameters.Int('batch_size',32,128,step=32) #giving batch size\n",
        "    super(CustomTuner,self).run_trial(trial,*args,**kwargs)\n"
      ],
      "metadata": {
        "id": "e1Uc8O9cxPVn"
      },
      "execution_count": 9,
      "outputs": []
    },
    {
      "cell_type": "code",
      "source": [
        "#running a custom tuner\n",
        "tuner=CustomTuner(\n",
        "    create_model,\n",
        "    objective='val_accuracy', #validation accuracy\n",
        "    max_trials=20,           #defining max number of trials\n",
        "    directory='logs',\n",
        "    project_name='fashion_mnist',\n",
        "    overwrite=True\n",
        ")"
      ],
      "metadata": {
        "id": "JoKJoqgfzmSJ"
      },
      "execution_count": 10,
      "outputs": []
    },
    {
      "cell_type": "code",
      "source": [
        "tuner.search_space_summary()"
      ],
      "metadata": {
        "colab": {
          "base_uri": "https://localhost:8080/"
        },
        "id": "OLgcDaIW0dUM",
        "outputId": "f5964e47-3701-45d3-8fc7-6f5807d16a8e"
      },
      "execution_count": 11,
      "outputs": [
        {
          "output_type": "stream",
          "name": "stdout",
          "text": [
            "Search space summary\n",
            "Default search space size: 4\n",
            "num_hidden_layers (Choice)\n",
            "{'default': 1, 'conditions': [], 'values': [1, 2, 3], 'ordered': True}\n",
            "num_units (Choice)\n",
            "{'default': 8, 'conditions': [], 'values': [8, 16, 32], 'ordered': True}\n",
            "dropout_rate (Float)\n",
            "{'default': 0.1, 'conditions': [], 'min_value': 0.1, 'max_value': 0.5, 'step': None, 'sampling': 'linear'}\n",
            "learning_rate (Float)\n",
            "{'default': 0.0001, 'conditions': [], 'min_value': 0.0001, 'max_value': 0.01, 'step': None, 'sampling': 'linear'}\n"
          ]
        }
      ]
    },
    {
      "cell_type": "code",
      "source": [
        "tuner.search(\n",
        "    x_train,y_train,\n",
        "    validation_data=(x_test,y_test),\n",
        "    epochs=5,verbose=False\n",
        ")"
      ],
      "metadata": {
        "id": "kvMWIjtq7B0q"
      },
      "execution_count": null,
      "outputs": []
    },
    {
      "cell_type": "code",
      "source": [
        "tuner.results_summary(1)"
      ],
      "metadata": {
        "colab": {
          "base_uri": "https://localhost:8080/"
        },
        "id": "WJ9BgDs54efe",
        "outputId": "59d3357c-cc58-4dbc-a9cf-92f89e216c96"
      },
      "execution_count": 16,
      "outputs": [
        {
          "output_type": "stream",
          "name": "stdout",
          "text": [
            "Results summary\n",
            "Results in logs/fashion_mnist\n",
            "Showing 1 best trials\n",
            "Objective(name=\"val_accuracy\", direction=\"max\")\n",
            "\n",
            "Trial 00 summary\n",
            "Hyperparameters:\n",
            "num_hidden_layers: 3\n",
            "num_units: 32\n",
            "dropout_rate: 0.2788224629829768\n",
            "learning_rate: 0.007921369981469363\n",
            "batch_size: 32\n"
          ]
        }
      ]
    },
    {
      "cell_type": "code",
      "source": [
        "model=tuner.get_best_models(num_models=1)[0]\n",
        "model.summary()"
      ],
      "metadata": {
        "colab": {
          "base_uri": "https://localhost:8080/"
        },
        "id": "faSkpD1e4vSm",
        "outputId": "67be5865-fa9c-40b7-f32a-b5a987ee23de"
      },
      "execution_count": 17,
      "outputs": [
        {
          "output_type": "stream",
          "name": "stdout",
          "text": [
            "Model: \"sequential\"\n",
            "_________________________________________________________________\n",
            " Layer (type)                Output Shape              Param #   \n",
            "=================================================================\n",
            " flatten (Flatten)           (None, 784)               0         \n",
            "                                                                 \n",
            " lambda (Lambda)             (None, 784)               0         \n",
            "                                                                 \n",
            " dense (Dense)               (None, 32)                25120     \n",
            "                                                                 \n",
            " dropout (Dropout)           (None, 32)                0         \n",
            "                                                                 \n",
            " dense_1 (Dense)             (None, 32)                1056      \n",
            "                                                                 \n",
            " dropout_1 (Dropout)         (None, 32)                0         \n",
            "                                                                 \n",
            " dense_2 (Dense)             (None, 32)                1056      \n",
            "                                                                 \n",
            " dropout_2 (Dropout)         (None, 32)                0         \n",
            "                                                                 \n",
            " dense_3 (Dense)             (None, 10)                330       \n",
            "                                                                 \n",
            "=================================================================\n",
            "Total params: 27,562\n",
            "Trainable params: 27,562\n",
            "Non-trainable params: 0\n",
            "_________________________________________________________________\n"
          ]
        }
      ]
    },
    {
      "cell_type": "code",
      "source": [
        "fit = model.fit(\n",
        "    x_train,y_train,\n",
        "    validation_data=(x_test,y_test),\n",
        "    epochs=20,batch_size=128,\n",
        "    callbacks=[tf.keras.callbacks.EarlyStopping(monitor='val_accuracy',patience=3)]\n",
        ")"
      ],
      "metadata": {
        "colab": {
          "base_uri": "https://localhost:8080/"
        },
        "id": "QidZ6ZUi5BAM",
        "outputId": "393511eb-ee40-48b0-bc5f-844e0646f3af"
      },
      "execution_count": 18,
      "outputs": [
        {
          "output_type": "stream",
          "name": "stdout",
          "text": [
            "Epoch 1/20\n",
            "469/469 [==============================] - 5s 8ms/step - loss: 0.9465 - accuracy: 0.6242 - val_loss: 0.7221 - val_accuracy: 0.7125\n",
            "Epoch 2/20\n",
            "469/469 [==============================] - 2s 5ms/step - loss: 0.9127 - accuracy: 0.6457 - val_loss: 0.7475 - val_accuracy: 0.6773\n",
            "Epoch 3/20\n",
            "469/469 [==============================] - 3s 7ms/step - loss: 0.9110 - accuracy: 0.6484 - val_loss: 0.7526 - val_accuracy: 0.6927\n",
            "Epoch 4/20\n",
            "469/469 [==============================] - 3s 6ms/step - loss: 0.9071 - accuracy: 0.6506 - val_loss: 0.6925 - val_accuracy: 0.7266\n",
            "Epoch 5/20\n",
            "469/469 [==============================] - 2s 5ms/step - loss: 0.9000 - accuracy: 0.6561 - val_loss: 0.7285 - val_accuracy: 0.7210\n",
            "Epoch 6/20\n",
            "469/469 [==============================] - 3s 5ms/step - loss: 0.8954 - accuracy: 0.6563 - val_loss: 0.7716 - val_accuracy: 0.6764\n",
            "Epoch 7/20\n",
            "469/469 [==============================] - 3s 5ms/step - loss: 0.8855 - accuracy: 0.6623 - val_loss: 0.6952 - val_accuracy: 0.7192\n"
          ]
        }
      ]
    }
  ]
}